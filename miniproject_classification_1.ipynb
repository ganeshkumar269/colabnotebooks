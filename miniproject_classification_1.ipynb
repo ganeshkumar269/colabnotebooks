{
  "nbformat": 4,
  "nbformat_minor": 0,
  "metadata": {
    "colab": {
      "name": "miniproject_classification.ipynb",
      "provenance": [],
      "collapsed_sections": [],
      "authorship_tag": "ABX9TyOvNwBWEoE9BQ5+j449o4QA",
      "include_colab_link": true
    },
    "kernelspec": {
      "name": "python3",
      "display_name": "Python 3"
    },
    "accelerator": "GPU"
  },
  "cells": [
    {
      "cell_type": "markdown",
      "metadata": {
        "id": "view-in-github",
        "colab_type": "text"
      },
      "source": [
        "<a href=\"https://colab.research.google.com/github/ganeshkumar269/colabnotebooks/blob/main/miniproject_classification_1.ipynb\" target=\"_parent\"><img src=\"https://colab.research.google.com/assets/colab-badge.svg\" alt=\"Open In Colab\"/></a>"
      ]
    },
    {
      "cell_type": "code",
      "metadata": {
        "id": "-d1QvscN4-br",
        "outputId": "8d8aa7b5-ed13-49a9-9fce-124c5c5d5529",
        "colab": {
          "base_uri": "https://localhost:8080/"
        }
      },
      "source": [
        "from google.colab import drive\n",
        "drive.mount('/content/gdrive')"
      ],
      "execution_count": 1,
      "outputs": [
        {
          "output_type": "stream",
          "text": [
            "Mounted at /content/gdrive\n"
          ],
          "name": "stdout"
        }
      ]
    },
    {
      "cell_type": "code",
      "metadata": {
        "id": "CRsZXp_FtHQC"
      },
      "source": [
        "base_path = '/content/gdrive/My Drive/ISIC-2017-Org-Train-Data/'\n",
        "gt_path = '/content/gdrive/My Drive/ISIC-2017-Org-Train-Data/ISIC-2017_Training_Part3_GroundTruth.csv'"
      ],
      "execution_count": 2,
      "outputs": []
    },
    {
      "cell_type": "code",
      "metadata": {
        "id": "Zj1FcyEpz-48"
      },
      "source": [
        "!pip install tensorboardX"
      ],
      "execution_count": null,
      "outputs": []
    },
    {
      "cell_type": "code",
      "metadata": {
        "id": "d_TmS77xz-1n"
      },
      "source": [
        "i=1\n",
        "while i > 0:\n",
        "  if i%10000 == 0 :\n",
        "    print(i)\n",
        "  if i > 100000000:\n",
        "    i=1"
      ],
      "execution_count": null,
      "outputs": []
    },
    {
      "cell_type": "code",
      "metadata": {
        "id": "XGNpfs3hzq9o",
        "cellView": "form"
      },
      "source": [
        "#@title train_mel.py {form-width : \"50px\"}\n",
        "\n",
        "from tqdm import tqdm\n",
        "from torch.utils import data\n",
        "import torch.optim as optim\n",
        "import torch.nn.functional as F\n",
        "from tensorboardX import SummaryWriter\n",
        "\n",
        "\n",
        "\n",
        "\n",
        "\n",
        "RANDOM_SEED = 6666\n",
        "\n",
        "\n",
        "def main():\n",
        "    np.random.seed(RANDOM_SEED)\n",
        "    torch.manual_seed(RANDOM_SEED)\n",
        "    torch.cuda.manual_seed_all(RANDOM_SEED)\n",
        "    random.seed(RANDOM_SEED)\n",
        "\n",
        "    def train(model, dataloader, criterion, optimizer):\n",
        "        model.train()\n",
        "        losses = []\n",
        "        acc = 0.0\n",
        "        for index, (images, labels, _) in enumerate(dataloader):\n",
        "            labels = labels.to(device).unsqueeze(1).float()\n",
        "            images = images.to(device)\n",
        "            predictions = model(images)\n",
        "            loss = criterion(predictions, labels)\n",
        "            logps = F.logsigmoid(predictions)\n",
        "            ps_ = torch.exp(logps)\n",
        "            equals = torch.ge(ps_, 0.5).float() == labels\n",
        "            acc += equals.sum().item()\n",
        "            losses.append(loss.item())\n",
        "            optimizer.zero_grad()\n",
        "            loss.backward()\n",
        "            optimizer.step()\n",
        "        train_loss = sum(losses) / len(losses)\n",
        "        train_acc = acc / len(dataloader.dataset)\n",
        "        print(f'\\ntrain_Accuracy: {train_acc:.5f}, train_Loss: {train_loss:.5f}')\n",
        "        return train_acc, train_loss\n",
        "\n",
        "    def validation(model, dataloader, criterion):\n",
        "        model.eval()\n",
        "        with torch.no_grad():\n",
        "            running_acc = 0.0\n",
        "            val_losses = []\n",
        "            for index, (images, labels, _) in enumerate(dataloader, start=1):\n",
        "                labels = labels.to(device).unsqueeze(1).float()\n",
        "                images = images.to(device)\n",
        "                # hogs = hogs.to(device)\n",
        "                score = []\n",
        "                for i in range(len(images[0])):\n",
        "                    ps = model(images[:,i])\n",
        "                    score.append(ps)\n",
        "                score = sum(score) / len(score)\n",
        "                logps = F.logsigmoid(score)\n",
        "                ps_ = torch.exp(logps)\n",
        "                loss = criterion(score, labels)\n",
        "                val_losses.append(loss.item())\n",
        "                equals = torch.ge(ps_, 0.5).float() == labels\n",
        "                running_acc += equals.sum().item()\n",
        "            val_loss = sum(val_losses) / len(val_losses)\n",
        "            val_acc = running_acc / len(dataloader.dataset)\n",
        "            print(f'\\nval_Accuracy: {val_acc:.5f}, val_Loss: {val_loss:.5f}')\n",
        "        return val_acc, val_loss\n",
        "\n",
        "    def save_checkpoint():\n",
        "        filename = os.path.join(checkpoint_dir, \"mel_arlnet50_b32_best_acc.pkl\")\n",
        "        # torch.save(model.state_dict(), filename)\n",
        "        torch.save({\n",
        "            'epoch': epoch,\n",
        "            'model_state_dict': model.state_dict(),\n",
        "            'optimizer_state_dict': optimizer.state_dict(),\n",
        "            'loss': loss\n",
        "            }, filename)\n",
        "\n",
        "    def adjust_learning_rate():\n",
        "        nonlocal lr\n",
        "        lr = lr / lr_decay\n",
        "        return optim.SGD(model.parameters(), lr, weight_decay=weight_decay, momentum=0.9)\n",
        "\n",
        "    # set the parameters\n",
        "    data_dir = '/content/gdrive/My Drive/ISIC-2017-Org-Train-Data'\n",
        "    # Create the dataloaders\n",
        "    batch_size = 32\n",
        "    # the checkpoint dir\n",
        "    checkpoint_dir = \"/content/gdrive/My Drive/ISIC-2017-Org-Train-Data/checkpoint\"\n",
        "\n",
        "    # the learning rate para\n",
        "    lr = 1e-4\n",
        "    lr_decay = 2\n",
        "    weight_decay = 1e-4\n",
        "\n",
        "    stage = 0\n",
        "    start_epoch = 0\n",
        "    stage_epochs = [30, 30, 30, 10]\n",
        "    total_epochs = sum(stage_epochs)\n",
        "    writer_dir = os.path.join(checkpoint_dir, \"mel_arlnet50\")\n",
        "    if not os.path.exists(checkpoint_dir):\n",
        "        os.makedirs(checkpoint_dir)\n",
        "\n",
        "    if not os.path.exists(writer_dir):\n",
        "        os.makedirs(writer_dir)\n",
        "\n",
        "    writer = SummaryWriter(writer_dir)\n",
        "\n",
        "    train_transforms = transforms.Compose([\n",
        "        # transforms.Resize((224, 224)),\n",
        "        transforms.RandomRotation((-10, 10)),\n",
        "        transforms.RandomHorizontalFlip(),\n",
        "        transforms.RandomVerticalFlip(),\n",
        "        transforms.ToTensor(),\n",
        "        transforms.Normalize(mean=[0.7079057, 0.59156483, 0.54687315],\n",
        "                             std=[0.09372108, 0.11136277, 0.12577087])\n",
        "    ])\n",
        "\n",
        "    val_transforms = argumentation_val()\n",
        "    # training dataset\n",
        "    train_dataset = ISICDataset(path=data_dir, mode=\"training\", crop=None, transform=train_transforms, task=\"mel\")\n",
        "    val_dataset = ISICDataset(path=data_dir, mode=\"validation\", crop=None, transform=val_transforms, task=\"mel\")\n",
        "\n",
        "    train_loader = data.DataLoader(train_dataset, batch_size=batch_size, shuffle=True, num_workers=8)\n",
        "    val_loader = data.DataLoader(val_dataset, batch_size=batch_size, shuffle=False, num_workers=8)\n",
        "    # get the model\n",
        "    model = arlnet50(pretrained=True)\n",
        "\n",
        "    # the loss function\n",
        "    criterion = nn.BCEWithLogitsLoss()\n",
        "\n",
        "    device = torch.device(\"cuda\" if torch.cuda.is_available() else \"cpu\")\n",
        "\n",
        "    model = model.to(device)\n",
        "\n",
        "    criterion = criterion.to(device)\n",
        "\n",
        "    # the optimizer\n",
        "    optimizer = optim.SGD(model.parameters(), lr, weight_decay=weight_decay, momentum=0.9)\n",
        "\n",
        "    # initialize the accuracy\n",
        "    acc = 0.0\n",
        "    for epoch in tqdm(range(start_epoch, total_epochs)):\n",
        "\n",
        "        train_acc, train_loss = train(model, train_loader, criterion, optimizer)\n",
        "        val_acc, val_loss = validation(model, val_loader, criterion)\n",
        "        writer.add_scalar(\"train acc\", train_acc, epoch)\n",
        "        writer.add_scalar(\"train loss\", train_loss, epoch)\n",
        "        writer.add_scalar(\"val accuracy\", val_acc, epoch)\n",
        "        writer.add_scalar(\"val loss\", val_loss, epoch)\n",
        "\n",
        "        if val_acc > acc or val_acc == acc:\n",
        "            acc = val_acc\n",
        "            print(\"save the checkpoint, the accuracy of validation is {}\".format(acc))\n",
        "            save_checkpoint()\n",
        "\n",
        "        if (epoch + 1) % 50 == 0:\n",
        "            torch.save(model.state_dict(), \"/content/gdrive/My Drive/ISIC-2017-Org-Train-Data/checkpoint/mel_arlnet50/mel_arlnet50_b32_epoches_{}.pkl\".format(epoch + 1))\n",
        "\n",
        "        if (epoch + 1) in np.cumsum(stage_epochs)[:-1]:\n",
        "            stage += 1\n",
        "            optimizer = adjust_learning_rate()\n",
        "            print('Step into next stage')\n",
        "\n",
        "        if (epoch + 1) == 50:\n",
        "            torch.save(model.state_dict(), \"/content/gdrive/My Drive/ISIC-2017-Org-Train-Data/checkpoint/mel_arlnet50/mel_arlnet50_b32_epoches_{}.pkl\".format(epoch + 1))\n",
        "\n",
        "\n",
        "if __name__ == '__main__':\n",
        "    main()"
      ],
      "execution_count": null,
      "outputs": []
    },
    {
      "cell_type": "code",
      "metadata": {
        "id": "rKE0MNAjaVCW",
        "cellView": "form"
      },
      "source": [
        "#@title dataset2017.py { form-width: \"50px\" }\n",
        "from torch.utils import data\n",
        "import pandas as pd\n",
        "import os\n",
        "import torch\n",
        "from PIL import Image\n",
        "import numpy as np\n",
        "class ISICDataset(data.Dataset):\n",
        "\n",
        "    def __init__(self, path, mode=\"training\", crop=None, transform=None, task=None):\n",
        "        self.path = path\n",
        "        self.mode = mode\n",
        "        self.samples = self.make_dataset(path)\n",
        "        self.crop = crop\n",
        "        self.transform = transform\n",
        "        self.task = task\n",
        "        self.image_list = []\n",
        "\n",
        "    def __len__(self):\n",
        "        return len(self.samples)\n",
        "\n",
        "    def __getitem__(self, idx):\n",
        "        img_path, melanoma, seborrheic_keratosis = self.samples[idx]\n",
        "        img_name = img_path.split(\"/\")[-1]\n",
        "        image = self.pil_loader(img_path)\n",
        "        if self.crop:\n",
        "            image = self.crop(image)\n",
        "        if self.transform:\n",
        "            image = self.transform(image)\n",
        "        if self.task==\"mel\":\n",
        "            return image, torch.from_numpy(np.array(int(melanoma))), img_name\n",
        "        elif self.task==\"sk\":\n",
        "            return image, torch.from_numpy(np.array(int(seborrheic_keratosis))), img_name\n",
        "        else:\n",
        "            return image, torch.FloatTensor([torch.from_numpy(np.array(int(melanoma))), torch.from_numpy(np.array(int(seborrheic_keratosis)))]), img_name\n",
        "        \n",
        "\n",
        "    def pil_loader(self, path):\n",
        "        with open(path, 'rb') as f:\n",
        "            img = Image.open(f)\n",
        "            return img.convert('RGB')\n",
        "\n",
        "    def make_dataset(self, dir):\n",
        "        images = []\n",
        "        if self.mode == \"training\":\n",
        "            img_dir = os.path.join(dir, \"ISIC-2017_Training_Data_Patch_2\")\n",
        "            csv_filename = os.path.join(dir, \"ISIC-2017_Training_Part3_GroundTruth_patch_2.csv\")\n",
        "        if self.mode == \"validation\":\n",
        "            img_dir = os.path.join(dir, \"After-Enhancement-Val-2\")\n",
        "            csv_filename = os.path.join(dir, \"validation_gt.csv\")\n",
        "        if self.mode == \"testing\":\n",
        "            img_dir = os.path.join(dir, \"After-Enhancement-Test\")\n",
        "            csv_filename = os.path.join(dir, \"ISIC-2017_Test_v2_Part3_GroundTruth.csv\")\n",
        "        label_list = pd.read_csv(csv_filename)\n",
        "\n",
        "        for index, row in label_list.iterrows():\n",
        "            if self.mode == \"training\":\n",
        "                images.append((os.path.join(img_dir, row[\"image_id\"] + \".png\"), row[\"melanoma\"], row[\"seborrheic_keratosis\"]))\n",
        "            else:\n",
        "                images.append((os.path.join(img_dir, row[\"image_id\"] + \".jpg\"), row[\"melanoma\"], row[\"seborrheic_keratosis\"]))\n",
        "        return images"
      ],
      "execution_count": 25,
      "outputs": []
    },
    {
      "cell_type": "code",
      "metadata": {
        "id": "d_ku4bG5arWv",
        "cellView": "form"
      },
      "source": [
        "#@title crop_transform.py { form-width: \"50px\" }\n",
        "from PIL import Image\n",
        "from torchvision import transforms\n",
        "import pandas as pd\n",
        "import os\n",
        "import glob as gb\n",
        "import torch\n",
        "import numpy as np\n",
        "import random\n",
        "import warnings\n",
        "from scipy import ndimage\n",
        "import cv2\n",
        "def rescale_crop(image, scale, num, mode):\n",
        "    image_list = []\n",
        "    h, w = image.size\n",
        "    if mode==\"train\":\n",
        "        trans = transforms.Compose([\n",
        "        transforms.CenterCrop((int(h * scale) + 500 * scale, int(w * scale) + 500 * scale)),\n",
        "        transforms.RandomCrop((int(h * scale), int(w * scale))),\n",
        "        transforms.Resize((224,224)),\n",
        "        transforms.RandomRotation((-10,10)),\n",
        "        transforms.RandomHorizontalFlip(),\n",
        "        transforms.RandomVerticalFlip(),\n",
        "    ])\n",
        "    elif mode==\"val\":\n",
        "        trans = transforms.Compose([\n",
        "            transforms.CenterCrop((int(h * scale) + 500 * scale, int(w * scale) + 500 * scale)),\n",
        "            transforms.RandomCrop((int(h * scale), int(w * scale))),\n",
        "            transforms.Resize((224, 224)),\n",
        "        ])\n",
        "    for i in range(num):\n",
        "        img = trans(image)\n",
        "        image_list.append(img)\n",
        "    return image_list\n",
        "\n",
        "def crop(image, mode):\n",
        "    image_list = []\n",
        "    if mode==\"train\":\n",
        "        trans = transforms.Compose([\n",
        "\n",
        "        transforms.RandomRotation((-10, 10)),\n",
        "        transforms.RandomHorizontalFlip(),\n",
        "        transforms.RandomVerticalFlip(),\n",
        "        transforms.Resize((224, 224)),  #change the order\n",
        "    ])\n",
        "    elif mode==\"val\":\n",
        "        trans = transforms.Compose([\n",
        "            transforms.Resize((224, 224)),\n",
        "        ])\n",
        "    img = trans(image)\n",
        "    image_list.append(img)\n",
        "    return image_list\n",
        "\n",
        "class argumentation(object):\n",
        "    def __call__(self, image):\n",
        "        image_list1 = rescale_crop(image, 0.2, 15, \"train\")\n",
        "        image_list2 = rescale_crop(image, 0.4, 15, \"train\")\n",
        "        image_list3 = rescale_crop(image, 0.6, 15, \"train\")\n",
        "        image_list4 = rescale_crop(image, 0.8, 15, \"train\")\n",
        "        image_list5 = crop(image, \"train\")\n",
        "        image_list = image_list1 + image_list2 + image_list3 + image_list4 + image_list5\n",
        "        nomalize = transforms.Lambda(lambda crops: torch.stack([transforms.Compose([transforms.ToTensor(), transforms.Normalize(mean=[0.7079057, 0.59156483, 0.54687315],\n",
        "                             std=[0.09372108, 0.11136277, 0.12577087])])(crop) for crop in crops]))\n",
        "        random.shuffle(image_list)\n",
        "        image_list = nomalize(image_list)\n",
        "        return image_list\n",
        "\n",
        "class argumentation_val(object):\n",
        "    def __call__(self, image):\n",
        "        image_list1 = rescale_crop(image, 0.2, 2, \"val\")\n",
        "        image_list2 = rescale_crop(image, 0.4, 2, \"val\")\n",
        "        image_list3 = rescale_crop(image, 0.6, 2, \"val\")\n",
        "        image_list4 = rescale_crop(image, 0.8, 2, \"val\")\n",
        "        image_list5 = crop(image, \"val\")\n",
        "        image_list = image_list1 + image_list2 + image_list3 + image_list4 + image_list5\n",
        "        nomalize = transforms.Lambda(lambda crops: torch.stack([transforms.Compose([transforms.ToTensor(), transforms.Normalize(mean=[0.7079057, 0.59156483, 0.54687315],\n",
        "                             std=[0.09372108, 0.11136277, 0.12577087])])(crop) for crop in crops]))\n",
        "        image_list = nomalize(image_list)\n",
        "        return image_list"
      ],
      "execution_count": 21,
      "outputs": []
    },
    {
      "cell_type": "code",
      "metadata": {
        "id": "gmvWX1nea1o4",
        "cellView": "form",
        "outputId": "b766a56a-898a-41c0-d082-428985471bc7",
        "colab": {
          "base_uri": "https://localhost:8080/"
        }
      },
      "source": [
        "#@title generate_patch_images.py { form-width: \"50px\" }\n",
        "import os\n",
        "from tqdm import tqdm\n",
        "import glob as gb\n",
        "import pandas as pd\n",
        "from PIL import Image\n",
        "from torchvision import transforms\n",
        "\n",
        "def get_images(root_path):\n",
        "    files = []\n",
        "    for ext in ['jpg']:\n",
        "        files.extend(gb.glob(os.path.join(root_path, '*.{}'.format(ext))))\n",
        "    return files\n",
        "\n",
        "def rescale_crop(image, scale, num, ori=False):\n",
        "    image_list = []\n",
        "    h, w = image.size\n",
        "    if ori:\n",
        "        trans = transforms.Resize((224,224))\n",
        "    else:\n",
        "        trans = transforms.Compose([\n",
        "        transforms.CenterCrop((int(h * scale) + 500 * scale, int(w * scale) + 500 * scale)),\n",
        "        transforms.RandomCrop((int(h * scale), int(w * scale))),\n",
        "        transforms.Resize((224,224))\n",
        "    ])\n",
        "    for i in range(num):\n",
        "        img = trans(image)\n",
        "        image_list.append(img)\n",
        "    return image_list\n",
        "\n",
        "data_dir = \"/content/gdrive/My Drive/ISIC-2017-Org-Train-Data/ISIC-2017_Training_Data/\"\n",
        "new_data_dir = base_path +'ISIC-2017_Training_Data_Patch_2/'\n",
        "excel_dir = base_path + \"ISIC-2017_Training_Part3_GroundTruth.csv\"\n",
        "new_excel_dir = base_path + \"ISIC-2017_Training_Part3_GroundTruth_patch_2.csv\"\n",
        "images = get_images(data_dir)\n",
        "\n",
        "if not os.path.exists(new_data_dir):\n",
        "    os.makedirs(new_data_dir)\n",
        "\n",
        "\n",
        "ids = []\n",
        "mels = []\n",
        "sks = []\n",
        "for img in tqdm(images):\n",
        "    image = Image.open(img)\n",
        "    labels = pd.read_csv(excel_dir)\n",
        "    mel = int(labels.loc[labels['image_id'] == img[img.rfind('/')+1:-4]]['melanoma'].values.squeeze())\n",
        "    sk = int(labels.loc[labels['image_id'] == img[img.rfind('/')+1:-4]]['seborrheic_keratosis'].values.squeeze())\n",
        "    image_list1 = rescale_crop(image, 0.2, 15)\n",
        "    image_list2 = rescale_crop(image, 0.4, 15)\n",
        "    image_list3 = rescale_crop(image, 0.6, 15)\n",
        "    image_list4 = rescale_crop(image, 0.8, 15)\n",
        "    image_list5 = rescale_crop(image, 1, 1, True)\n",
        "    image_list_all = image_list1 + image_list2 + image_list3 + image_list4 + image_list5\n",
        "\n",
        "    for i in range(len(image_list_all)):\n",
        "        new_name = img[img.rfind('/')+1:-4] + '_' + str(i) + '.png'\n",
        "        new_dir = os.path.join(new_data_dir, new_name)\n",
        "        image_list_all[i].save(new_dir)\n",
        "        labels = pd.read_csv(excel_dir)\n",
        "        ids.append(new_name[:-4])\n",
        "        mels.append(mel)\n",
        "        sks.append(sk)\n",
        "data_frame = pd.DataFrame({\"image_id\": ids, \"melanoma\": mels, \"seborrheic_keratosis\": sks})\n",
        "data_frame.to_csv(new_excel_dir, index=False, sep=\",\")"
      ],
      "execution_count": 16,
      "outputs": [
        {
          "output_type": "stream",
          "text": [
            "100%|██████████| 2000/2000 [2:13:06<00:00,  3.99s/it]\n"
          ],
          "name": "stderr"
        }
      ]
    },
    {
      "cell_type": "code",
      "metadata": {
        "id": "qlMUvkb2a91b",
        "cellView": "form",
        "outputId": "d2cafa47-07b0-49cd-fd2a-cfcbc894a17e",
        "colab": {
          "base_uri": "https://localhost:8080/",
          "height": 404
        }
      },
      "source": [
        "#@title predict_2017.py { form-width: \"50px\" }\n",
        "import json\n",
        "from tqdm import tqdm\n",
        "import torch.nn.functional as F\n",
        "from torch.utils import data\n",
        "# from dataset2017 import ISICDataset\n",
        "from sklearn import metrics\n",
        "import matplotlib.pyplot as plt\n",
        "# from crop_transform import *\n",
        "# from models.ARL import arlnet50\n",
        "RANDOM_SEED = 6666\n",
        "\n",
        "\n",
        "def main():\n",
        "    np.random.seed(RANDOM_SEED)\n",
        "    torch.manual_seed(RANDOM_SEED)\n",
        "    torch.cuda.manual_seed_all(RANDOM_SEED)\n",
        "    random.seed(RANDOM_SEED)\n",
        "\n",
        "    # set the parameters\n",
        "    checkpoint_dir = base_path + \"checkpoint/mel_arlnet50_b32_best_acc_second.pkl\"\n",
        "    result_dir = base_path + \"result\"\n",
        "    data_dir = base_path\n",
        "    # Create the dataloaders\n",
        "    batch_size = 1\n",
        "\n",
        "    y = []\n",
        "    y_score = []\n",
        "\n",
        "    if not os.path.exists(result_dir):\n",
        "        os.makedirs(result_dir)\n",
        "\n",
        "    def imshow(y_pre, y_score):\n",
        "        fpr, tpr, thresholds = metrics.roc_curve(y_pre, y_score)\n",
        "        auc = metrics.auc(fpr, tpr)\n",
        "        print(auc)\n",
        "\n",
        "        plt.plot(fpr, tpr, c='r', lw=2, alpha=0.7, label=u'AUC=%.3f' % auc)\n",
        "        plt.plot((0, 1), (0, 1), c='#808080', lw=1, ls='--', alpha=0.7)\n",
        "        plt.xlim((-0.01, 1.02))\n",
        "        plt.ylim((-0.01, 1.02))\n",
        "        plt.xticks(np.arange(0, 1.1, 0.1))\n",
        "        plt.yticks(np.arange(0, 1.1, 0.1))\n",
        "        plt.xlabel('False Positive Rate', fontsize=13)\n",
        "        plt.ylabel('True Positive Rate', fontsize=13)\n",
        "        plt.grid(b=True, ls=':')\n",
        "        plt.legend(loc='lower right', fancybox=True, framealpha=0.8, fontsize=12)\n",
        "        plt.title(u'ROC and AUC for ISBI2017', fontsize=17)\n",
        "        plt.savefig(\"/content/gdrive/My Drive/ISIC-2017-Org-Train-Data/ISIC-2017_Training_Data/2017_mel_arlnet50_e100_b32_second.png\")\n",
        "\n",
        "\n",
        "    def load_checkpoint(checkpoint_path):\n",
        "\n",
        "        # Here put the pretrained model that you used (in my case it's densenet161).\n",
        "\n",
        "        # model = resnet50()\n",
        "        # # model = danet()\n",
        "        # # model = resnet50_cbam(pretrained=False)\n",
        "        # # model = se_resnet50()\n",
        "        # # model = proposed()\n",
        "        # # model = models.resnext50_32x4d(pretrained=False)\n",
        "        # try:\n",
        "        #     n_ftrs = model.classifier.in_features\n",
        "        #     model.classifier = classifier(n_ftrs)\n",
        "        # except AttributeError:\n",
        "        #     n_ftrs = model.fc.in_features\n",
        "        #     model.fc = classifier(n_ftrs)\n",
        "        # model = model.to(device)\n",
        "        '''\n",
        "        fn1 = FeatureNet_1()\n",
        "        fn2 = FeatureNet_2()\n",
        "        cfn = ClassifierNet(fn1, fn2) \n",
        "        model = cfn\n",
        "        '''\n",
        "        model = arlnet50(pretrained=True)\n",
        "        # checkpoint = torch.load(checkpoint_path, map_location='cpu')\n",
        "        checkpoint = torch.load(checkpoint_path, map_location='cuda')\n",
        "        '''\n",
        "        from collections import OrderedDict\n",
        "        new_state_dict = OrderedDict()\n",
        "        for k, v in checkpoint.items():\n",
        "            name = k[7:]  # remove module.\n",
        "            new_state_dict[name] = v\n",
        "        '''\n",
        "        model.load_state_dict(checkpoint)  # your checkpoint's key may differ (e.g.'state_dict')\n",
        "        model.eval()\n",
        "        return model\n",
        "\n",
        "    def predict(model, dataloader):\n",
        "        mel_tn = 0\n",
        "        mel_fp = 0\n",
        "        mel_tp = 0\n",
        "        mel_fn = 0\n",
        "        model.eval()\n",
        "        with torch.no_grad():\n",
        "            for ii, (images, labels, _) in tqdm(enumerate(dataloader, start=1)):\n",
        "                images = images.to(device)\n",
        "                scores = []\n",
        "\n",
        "                for i in range(len(images[0])):\n",
        "                    pred = model(images[:, i])\n",
        "                    scores.append(pred)\n",
        "                scores = sum(scores) / len(scores)\n",
        "                logps = F.logsigmoid(scores)\n",
        "                score = torch.exp(logps)\n",
        "                pre = torch.ge(score, 0.5).float()\n",
        "                if int(pre) == 0 and int(labels) == 0:\n",
        "                    mel_tn += 1\n",
        "                elif int(pre) == 1 and int(labels) == 0:\n",
        "                    mel_fp += 1\n",
        "                elif int(pre) == 1 and int(labels) == 1:\n",
        "                    mel_tp += 1\n",
        "                elif int(pre) == 0 and int(labels) == 1:\n",
        "                    mel_fn += 1\n",
        "                score = score.cpu().numpy().tolist()[0]\n",
        "                label = labels.cpu().numpy().tolist()[0]\n",
        "                y.append(label)\n",
        "                y_score.append(score)\n",
        "        return mel_tp, mel_tn, mel_fp, mel_fn\n",
        "\n",
        "    val_transforms = argumentation_val()\n",
        "    # Validation dataset\n",
        "    val_dataset = ISICDataset(path=data_dir, mode=\"testing\", crop=None, transform=val_transforms, task=\"mel\")\n",
        "    val_loader = data.DataLoader(val_dataset, batch_size=batch_size, shuffle=False)\n",
        "\n",
        "    # device = torch.device(\"cuda\" if torch.cuda.is_available() else \"cpu\")\n",
        "    device = torch.device(\"cuda\")\n",
        "\n",
        "    model = load_checkpoint(checkpoint_path=checkpoint_dir)\n",
        "\n",
        "    model.cuda()\n",
        "    mel_tp, mel_tn, mel_fp, mel_fn = predict(model, val_loader)\n",
        "\n",
        "    mel_acc = (mel_tp + mel_tn) / (mel_tn + mel_fp + mel_tp + mel_fn)\n",
        "    mel_sen = mel_tp / (mel_tp + mel_fn)\n",
        "    mel_spe = mel_tn / (mel_tn + mel_fp)\n",
        "\n",
        "    y_score = np.array(y_score)\n",
        "    mel_auc = metrics.roc_auc_score(y, y_score)\n",
        "\n",
        "    imshow(y, y_score)\n",
        "\n",
        "    print('mel_Accuracy:', mel_acc)\n",
        "    print('mel_Sensitive:', mel_sen)\n",
        "    print('mel_Specificity:', mel_spe)\n",
        "    print('mel_AUC:', mel_auc)\n",
        "    with open('/content/gdrive/My Drive/ISIC-2017-Org-Train-Data/result/result_second.txt', 'a') as f:\n",
        "        f.write('\\n2017_mel_arlnet50_e100_b32: ' + json.dumps(\n",
        "            {'mel_Accuracy': mel_acc, 'mel_Sensitive': mel_sen, 'mel_Specificity': mel_spe, 'mel_AUC': mel_auc}))\n",
        "\n",
        "\n",
        "if __name__ == '__main__':\n",
        "    main()"
      ],
      "execution_count": 14,
      "outputs": [
        {
          "output_type": "stream",
          "text": [
            "600it [03:23,  2.95it/s]\n"
          ],
          "name": "stderr"
        },
        {
          "output_type": "stream",
          "text": [
            "0.7467218771566599\n",
            "mel_Accuracy: 0.8183333333333334\n",
            "mel_Sensitive: 0.1111111111111111\n",
            "mel_Specificity: 0.989648033126294\n",
            "mel_AUC: 0.7467218771566599\n"
          ],
          "name": "stdout"
        },
        {
          "output_type": "display_data",
          "data": {
            "image/png": "[encoded data removed]",
            "text/plain": [
              "<Figure size 432x288 with 1 Axes>"
            ]
          },
          "metadata": {
            "tags": [],
            "needs_background": "light"
          }
        }
      ]
    },
    {
      "cell_type": "code",
      "metadata": {
        "id": "eDG3TrA3-TYX",
        "cellView": "form"
      },
      "source": [
        "#@title ARL.py {form-width:\"50px\"}\n",
        "import torch.nn as nn\n",
        "import math\n",
        "import torch.utils.model_zoo as model_zoo\n",
        "\n",
        "import torch.nn.init\n",
        "\n",
        "\n",
        "\n",
        "model_urls = {\n",
        "    'resnet18': 'https://download.pytorch.org/models/resnet18-5c106cde.pth',\n",
        "    'resnet34': 'https://download.pytorch.org/models/resnet34-333f7ec4.pth',\n",
        "    'resnet50': 'https://download.pytorch.org/models/resnet50-19c8e357.pth',\n",
        "    'resnet101': 'https://download.pytorch.org/models/resnet101-5d3b4d8f.pth',\n",
        "    'resnet152': 'https://download.pytorch.org/models/resnet152-b121ed2d.pth',\n",
        "}\n",
        "\n",
        "\n",
        "def conv3x3(in_planes, out_planes, stride=1):\n",
        "    \"\"\"3x3 convolution with padding\"\"\"\n",
        "    return nn.Conv2d(in_planes, out_planes, kernel_size=3, stride=stride,\n",
        "                     padding=1, bias=False)\n",
        "\n",
        "\n",
        "class BasicBlock(nn.Module):\n",
        "    expansion = 1\n",
        "\n",
        "    def __init__(self, inplanes, planes, stride=1, downsample=None, alpha =0.001):\n",
        "        super(BasicBlock, self).__init__()\n",
        "        self.conv1 = conv3x3(inplanes, planes, stride)\n",
        "        self.bn1 = nn.BatchNorm2d(planes)\n",
        "        self.relu = nn.ReLU(inplace=True)\n",
        "        self.conv2 = conv3x3(planes, planes)\n",
        "        self.bn2 = nn.BatchNorm2d(planes)\n",
        "        self.downsample = downsample\n",
        "        self.stride = stride\n",
        "        self.alpha = alpha\n",
        "\n",
        "    def forward(self, x):\n",
        "        residual = x\n",
        "\n",
        "        out = self.conv1(x)\n",
        "        out = self.bn1(out)\n",
        "        out = self.relu(out)\n",
        "\n",
        "        out = self.conv2(out)\n",
        "        out = self.bn2(out)\n",
        "\n",
        "        if self.downsample is not None:\n",
        "            residual = self.downsample(x)\n",
        "\n",
        "        attention = nn.Softmax2d(out)\n",
        "\n",
        "        out = out + residual + self.alpha * attention * residual\n",
        "\n",
        "        out = self.relu(out)\n",
        "\n",
        "        return out\n",
        "\n",
        "\n",
        "class Bottleneck(nn.Module):\n",
        "    expansion = 4\n",
        "\n",
        "    def __init__(self, inplanes, planes, stride=1, downsample=None, alpha = 0.001):\n",
        "        super(Bottleneck, self).__init__()\n",
        "        self.conv1 = nn.Conv2d(inplanes, planes, kernel_size=1, bias=False)\n",
        "        self.bn1 = nn.BatchNorm2d(planes)\n",
        "        self.conv2 = nn.Conv2d(planes, planes, kernel_size=3, stride=stride,\n",
        "                               padding=1, bias=False)\n",
        "        self.bn2 = nn.BatchNorm2d(planes)\n",
        "        self.conv3 = nn.Conv2d(planes, planes * 4, kernel_size=1, bias=False)\n",
        "        self.bn3 = nn.BatchNorm2d(planes * 4)\n",
        "        self.relu = nn.ReLU(inplace=True)\n",
        "        self.downsample = downsample\n",
        "        self.stride = stride\n",
        "        self.alpha = alpha\n",
        "\n",
        "    def forward(self, x):\n",
        "        residual = x\n",
        "\n",
        "        out = self.conv1(x)\n",
        "        out = self.bn1(out)\n",
        "        out = self.relu(out)\n",
        "\n",
        "        out = self.conv2(out)\n",
        "        out = self.bn2(out)\n",
        "        out = self.relu(out)\n",
        "\n",
        "        out = self.conv3(out)\n",
        "        out = self.bn3(out)\n",
        "\n",
        "        if self.downsample is not None:\n",
        "            residual = self.downsample(x)\n",
        "\n",
        "        attention = nn.Softmax2d()(out)\n",
        "\n",
        "        out = out + residual + self.alpha * attention *residual\n",
        "\n",
        "        out = self.relu(out)\n",
        "\n",
        "        return out\n",
        "\n",
        "\n",
        "class ARLNet(nn.Module):\n",
        "\n",
        "    def __init__(self, block, layers, num_classes=1):\n",
        "        self.inplanes = 64\n",
        "        super(ARLNet, self).__init__()\n",
        "        self.conv1 = nn.Conv2d(3, 64, kernel_size=7, stride=2, padding=3,\n",
        "                               bias=False)\n",
        "        self.bn1 = nn.BatchNorm2d(64)\n",
        "        self.relu = nn.ReLU(inplace=True)\n",
        "        self.maxpool = nn.MaxPool2d(kernel_size=3, stride=2, padding=1)\n",
        "        self.layer1 = self._make_layer(block, 64, layers[0])    #3\n",
        "        self.layer2 = self._make_layer(block, 128, layers[1], stride=2) #4\n",
        "        self.layer3 = self._make_layer(block, 256, layers[2], stride=2)  #6\n",
        "        self.layer4 = self._make_layer(block, 512, layers[3], stride=2)  #3\n",
        "        self.avgpool = nn.AvgPool2d(7, stride=1)\n",
        "        self.fc_ = nn.Linear(512 * block.expansion, num_classes)\n",
        "\n",
        "        for m in self.modules():\n",
        "            if isinstance(m, nn.Conv2d):\n",
        "                n = m.kernel_size[0] * m.kernel_size[1] * m.out_channels\n",
        "                m.weight.data.normal_(0, math.sqrt(2. / n))\n",
        "            elif isinstance(m, nn.BatchNorm2d):\n",
        "                m.weight.data.fill_(1)\n",
        "                m.bias.data.zero_()\n",
        "\n",
        "    def _make_layer(self, block, planes, blocks, stride=1):\n",
        "        downsample = None\n",
        "        if stride != 1 or self.inplanes != planes * block.expansion:\n",
        "            downsample = nn.Sequential(\n",
        "                nn.Conv2d(self.inplanes, planes * block.expansion,\n",
        "                          kernel_size=1, stride=stride, bias=False),\n",
        "                nn.BatchNorm2d(planes * block.expansion),\n",
        "            )\n",
        "\n",
        "        layers = []\n",
        "        layers.append(block(self.inplanes, planes, stride, downsample))\n",
        "        self.inplanes = planes * block.expansion\n",
        "        for i in range(1, blocks):\n",
        "            layers.append(block(self.inplanes, planes))\n",
        "\n",
        "        return nn.Sequential(*layers)\n",
        "\n",
        "    def forward(self, x):\n",
        "        x = self.conv1(x)\n",
        "        x = self.bn1(x)\n",
        "        x = self.relu(x)\n",
        "        x = self.maxpool(x)\n",
        "\n",
        "        x = self.layer1(x)\n",
        "        x = self.layer2(x)\n",
        "        x = self.layer3(x)\n",
        "        x = self.layer4(x)\n",
        "\n",
        "        x = self.avgpool(x)\n",
        "        x = x.view(x.size(0), -1)\n",
        "        x = self.fc_(x)\n",
        "\n",
        "        return x\n",
        "\n",
        "\n",
        "def arlnet18(pretrained=False, **kwargs):\n",
        "    \"\"\"Constructs a ResNet-18 model.\n",
        "\n",
        "    Args:\n",
        "        pretrained (bool): If True, returns a model pre-trained on ImageNet\n",
        "    \"\"\"\n",
        "    model = ARLNet(BasicBlock, [2, 2, 2, 2], **kwargs)\n",
        "    if pretrained:\n",
        "        model_pretrained = model_zoo.load_url(model_urls['resnet18'])\n",
        "        model_dict = model.state_dict()\n",
        "        pretrained_dict = {k: v for k, v in model_pretrained.items() if k in model_dict}\n",
        "        model_dict.update(pretrained_dict)\n",
        "        model.load_state_dict(model_dict)\n",
        "    return model\n",
        "\n",
        "\n",
        "def arlnet34(pretrained=False, **kwargs):\n",
        "    \"\"\"Constructs a ResNet-34 model.\n",
        "\n",
        "    Args:\n",
        "        pretrained (bool): If True, returns a model pre-trained on ImageNet\n",
        "    \"\"\"\n",
        "    model = ARLNet(BasicBlock, [3, 4, 6, 3], **kwargs)\n",
        "    if pretrained:\n",
        "        model_pretrained = model_zoo.load_url(model_urls['resnet34'])\n",
        "        model_dict = model.state_dict()\n",
        "        pretrained_dict = {k: v for k, v in model_pretrained.items() if k in model_dict}\n",
        "        model_dict.update(pretrained_dict)\n",
        "        model.load_state_dict(model_dict)\n",
        "    return model\n",
        "\n",
        "\n",
        "def arlnet50(pretrained=False, **kwargs):\n",
        "    \"\"\"Constructs a ResNet-50 model.\n",
        "\n",
        "    Args:\n",
        "        pretrained (bool): If True, returns a model pre-trained on ImageNet\n",
        "    \"\"\"\n",
        "    model = ARLNet(Bottleneck, [3, 4, 6, 3], **kwargs)\n",
        "    if pretrained:\n",
        "        model_pretrained = model_zoo.load_url(model_urls['resnet50'])\n",
        "        model_dict = model.state_dict()\n",
        "        pretrained_dict = {k: v for k, v in model_pretrained.items() if k in model_dict}\n",
        "        model_dict.update(pretrained_dict)\n",
        "        model.load_state_dict(model_dict)\n",
        "    return model\n",
        "\n",
        "\n",
        "def arlnet101(pretrained=False, **kwargs):\n",
        "    \"\"\"Constructs a ResNet-101 model.\n",
        "\n",
        "    Args:\n",
        "        pretrained (bool): If True, returns a model pre-trained on ImageNet\n",
        "    \"\"\"\n",
        "    model = ARLNet(Bottleneck, [3, 4, 23, 3], **kwargs)\n",
        "    if pretrained:\n",
        "        model_pretrained = model_zoo.load_url(model_urls['resnet101'])\n",
        "        model_dict = model.state_dict()\n",
        "        pretrained_dict = {k: v for k, v in model_pretrained.items() if k in model_dict}\n",
        "        model_dict.update(pretrained_dict)\n",
        "        model.load_state_dict(model_dict)\n",
        "    return model\n",
        "\n",
        "\n",
        "def arlnet152(pretrained=False, **kwargs):\n",
        "    \"\"\"Constructs a ResNet-152 model.\n",
        "\n",
        "    Args:\n",
        "        pretrained (bool): If True, returns a model pre-trained on ImageNet\n",
        "    \"\"\"\n",
        "    model = ARLNet(Bottleneck, [3, 8, 36, 3], **kwargs)\n",
        "    if pretrained:\n",
        "        model_pretrained = model_zoo.load_url(model_urls['resnet152'])\n",
        "        model_dict = model.state_dict()\n",
        "        pretrained_dict = {k: v for k, v in model_pretrained.items() if k in model_dict}\n",
        "        model_dict.update(pretrained_dict)\n",
        "        model.load_state_dict(model_dict)\n",
        "    return model\n",
        "\n",
        "if __name__ == '__main__':\n",
        "    model = arlnet50(pretrained=True)"
      ],
      "execution_count": 22,
      "outputs": []
    },
    {
      "cell_type": "code",
      "metadata": {
        "id": "QU5qM2H6-cdl",
        "cellView": "form"
      },
      "source": [
        "#@title resnet.py {form-width:\"50px\"}\n",
        "import torch\n",
        "import torch.nn as nn\n",
        "\n",
        "def conv3x3(in_planes, out_planes, stride=1, groups=1, dilation=1):\n",
        "    \"\"\"3x3 convolution with padding\"\"\"\n",
        "    return nn.Conv2d(in_planes, out_planes, kernel_size=3, stride=stride,\n",
        "                     padding=dilation, groups=groups, bias=False, dilation=dilation)\n",
        "\n",
        "\n",
        "def conv1x1(in_planes, out_planes, stride=1):\n",
        "    \"\"\"1x1 convolution\"\"\"\n",
        "    return nn.Conv2d(in_planes, out_planes, kernel_size=1, stride=stride, bias=False)\n",
        "\n",
        "\n",
        "class BasicBlock(nn.Module):\n",
        "    expansion = 1\n",
        "    __constants__ = ['downsample']\n",
        "\n",
        "    def __init__(self, inplanes, planes, stride=1, downsample=None, groups=1,\n",
        "                 base_width=64, dilation=1, norm_layer=None):\n",
        "        super(BasicBlock, self).__init__()\n",
        "        if norm_layer is None:\n",
        "            norm_layer = nn.BatchNorm2d\n",
        "        if groups != 1 or base_width != 64:\n",
        "            raise ValueError('BasicBlock only supports groups=1 and base_width=64')\n",
        "        if dilation > 1:\n",
        "            raise NotImplementedError(\"Dilation > 1 not supported in BasicBlock\")\n",
        "        # Both self.conv1 and self.downsample layers downsample the input when stride != 1\n",
        "        self.conv1 = conv3x3(inplanes, planes, stride)\n",
        "        self.bn1 = norm_layer(planes)\n",
        "        self.relu = nn.ReLU(inplace=True)\n",
        "        self.conv2 = conv3x3(planes, planes)\n",
        "        self.bn2 = norm_layer(planes)\n",
        "        self.downsample = downsample\n",
        "        self.stride = stride\n",
        "\n",
        "    def forward(self, x):\n",
        "        identity = x\n",
        "\n",
        "        out = self.conv1(x)\n",
        "        out = self.bn1(out)\n",
        "        out = self.relu(out)\n",
        "\n",
        "        out = self.conv2(out)\n",
        "        out = self.bn2(out)\n",
        "\n",
        "        if self.downsample is not None:\n",
        "            identity = self.downsample(x)\n",
        "\n",
        "        out += identity\n",
        "        out = self.relu(out)\n",
        "\n",
        "        return out\n",
        "\n",
        "\n",
        "class Bottleneck(nn.Module):\n",
        "    expansion = 4\n",
        "    __constants__ = ['downsample']\n",
        "\n",
        "    def __init__(self, inplanes, planes, stride=1, downsample=None, groups=1,\n",
        "                 base_width=64, dilation=1, norm_layer=None):\n",
        "        super(Bottleneck, self).__init__()\n",
        "        if norm_layer is None:\n",
        "            norm_layer = nn.BatchNorm2d\n",
        "        width = int(planes * (base_width / 64.)) * groups\n",
        "        # Both self.conv2 and self.downsample layers downsample the input when stride != 1\n",
        "        self.conv1 = conv1x1(inplanes, width)\n",
        "        self.bn1 = norm_layer(width)\n",
        "        self.conv2 = conv3x3(width, width, stride, groups, dilation)\n",
        "        self.bn2 = norm_layer(width)\n",
        "        self.conv3 = conv1x1(width, planes * self.expansion)\n",
        "        self.bn3 = norm_layer(planes * self.expansion)\n",
        "        self.relu = nn.ReLU(inplace=True)\n",
        "        self.downsample = downsample\n",
        "        self.stride = stride\n",
        "\n",
        "    def forward(self, x):\n",
        "        identity = x\n",
        "\n",
        "        out = self.conv1(x)\n",
        "        out = self.bn1(out)\n",
        "        out = self.relu(out)\n",
        "\n",
        "        out = self.conv2(out)\n",
        "        out = self.bn2(out)\n",
        "        out = self.relu(out)\n",
        "\n",
        "        out = self.conv3(out)\n",
        "        out = self.bn3(out)\n",
        "\n",
        "        if self.downsample is not None:\n",
        "            identity = self.downsample(x)\n",
        "\n",
        "        out += identity\n",
        "        out = self.relu(out)\n",
        "\n",
        "        return out\n",
        "\n",
        "\n",
        "class ResNet(nn.Module):\n",
        "\n",
        "    def __init__(self, block, layers, num_classes=1000, zero_init_residual=False,\n",
        "                 groups=1, width_per_group=64, replace_stride_with_dilation=None,\n",
        "                 norm_layer=None):\n",
        "        super(ResNet, self).__init__()\n",
        "        if norm_layer is None:\n",
        "            norm_layer = nn.BatchNorm2d\n",
        "        self._norm_layer = norm_layer\n",
        "\n",
        "        self.inplanes = 64\n",
        "        self.dilation = 1\n",
        "        if replace_stride_with_dilation is None:\n",
        "            # each element in the tuple indicates if we should replace\n",
        "            # the 2x2 stride with a dilated convolution instead\n",
        "            replace_stride_with_dilation = [False, False, False]\n",
        "        if len(replace_stride_with_dilation) != 3:\n",
        "            raise ValueError(\"replace_stride_with_dilation should be None \"\n",
        "                             \"or a 3-element tuple, got {}\".format(replace_stride_with_dilation))\n",
        "        self.groups = groups\n",
        "        self.base_width = width_per_group\n",
        "        self.conv1 = nn.Conv2d(3, self.inplanes, kernel_size=7, stride=2, padding=3,\n",
        "                               bias=False)\n",
        "        self.bn1 = norm_layer(self.inplanes)\n",
        "        self.relu = nn.ReLU(inplace=True)\n",
        "        self.maxpool = nn.MaxPool2d(kernel_size=3, stride=2, padding=1)\n",
        "        self.layer1 = self._make_layer(block, 64, layers[0])\n",
        "        self.layer2 = self._make_layer(block, 128, layers[1], stride=2,\n",
        "                                       dilate=replace_stride_with_dilation[0])\n",
        "        self.layer3 = self._make_layer(block, 256, layers[2], stride=2,\n",
        "                                       dilate=replace_stride_with_dilation[1])\n",
        "        self.layer4 = self._make_layer(block, 512, layers[3], stride=2,\n",
        "                                       dilate=replace_stride_with_dilation[2])\n",
        "        self.avgpool = nn.AdaptiveAvgPool2d((1, 1))\n",
        "        self.fc = nn.Linear(512 * block.expansion, num_classes)\n",
        "\n",
        "        for m in self.modules():\n",
        "            if isinstance(m, nn.Conv2d):\n",
        "                nn.init.kaiming_normal_(m.weight, mode='fan_out', nonlinearity='relu')\n",
        "            elif isinstance(m, (nn.BatchNorm2d, nn.GroupNorm)):\n",
        "                nn.init.constant_(m.weight, 1)\n",
        "                nn.init.constant_(m.bias, 0)\n",
        "\n",
        "        # Zero-initialize the last BN in each residual branch,\n",
        "        # so that the residual branch starts with zeros, and each residual block behaves like an identity.\n",
        "        # This improves the model by 0.2~0.3% according to https://arxiv.org/abs/1706.02677\n",
        "        if zero_init_residual:\n",
        "            for m in self.modules():\n",
        "                if isinstance(m, Bottleneck):\n",
        "                    nn.init.constant_(m.bn3.weight, 0)\n",
        "                elif isinstance(m, BasicBlock):\n",
        "                    nn.init.constant_(m.bn2.weight, 0)\n",
        "\n",
        "    def _make_layer(self, block, planes, blocks, stride=1, dilate=False):\n",
        "        norm_layer = self._norm_layer\n",
        "        downsample = None\n",
        "        previous_dilation = self.dilation\n",
        "        if dilate:\n",
        "            self.dilation *= stride\n",
        "            stride = 1\n",
        "        if stride != 1 or self.inplanes != planes * block.expansion:\n",
        "            downsample = nn.Sequential(\n",
        "                conv1x1(self.inplanes, planes * block.expansion, stride),\n",
        "                norm_layer(planes * block.expansion),\n",
        "            )\n",
        "\n",
        "        layers = []\n",
        "        layers.append(block(self.inplanes, planes, stride, downsample, self.groups,\n",
        "                            self.base_width, previous_dilation, norm_layer))\n",
        "        self.inplanes = planes * block.expansion\n",
        "        for _ in range(1, blocks):\n",
        "            layers.append(block(self.inplanes, planes, groups=self.groups,\n",
        "                                base_width=self.base_width, dilation=self.dilation,\n",
        "                                norm_layer=norm_layer))\n",
        "\n",
        "        return nn.Sequential(*layers)\n",
        "\n",
        "    def _forward(self, x):\n",
        "        x = self.conv1(x)\n",
        "        x = self.bn1(x)\n",
        "        x = self.relu(x)\n",
        "        x = self.maxpool(x)\n",
        "\n",
        "        x = self.layer1(x)\n",
        "        x = self.layer2(x)\n",
        "        x = self.layer3(x)\n",
        "        x = self.layer4(x)\n",
        "\n",
        "        x = self.avgpool(x)\n",
        "        x = torch.flatten(x, 1)\n",
        "        x = self.fc(x)\n",
        "\n",
        "        return x\n",
        "\n",
        "    # Allow for accessing forward method in a inherited class\n",
        "    forward = _forward\n",
        "\n",
        "\n",
        "def _resnet(arch, block, layers, progress, **kwargs):\n",
        "    model = ResNet(block, layers, **kwargs)\n",
        "    return model\n",
        "\n",
        "\n",
        "def resnet18(progress=True, **kwargs):\n",
        "    r\"\"\"ResNet-18 model from\n",
        "    `\"Deep Residual Learning for Image Recognition\" <https://arxiv.org/pdf/1512.03385.pdf>`_\n",
        "\n",
        "    Args:\n",
        "        pretrained (bool): If True, returns a model pre-trained on ImageNet\n",
        "        progress (bool): If True, displays a progress bar of the download to stderr\n",
        "    \"\"\"\n",
        "    return _resnet('resnet18', BasicBlock, [2, 2, 2, 2], progress,\n",
        "                   **kwargs)\n",
        "\n",
        "\n",
        "\n",
        "def resnet34(progress=True, **kwargs):\n",
        "    r\"\"\"ResNet-34 model from\n",
        "    `\"Deep Residual Learning for Image Recognition\" <https://arxiv.org/pdf/1512.03385.pdf>`_\n",
        "\n",
        "    Args:\n",
        "        pretrained (bool): If True, returns a model pre-trained on ImageNet\n",
        "        progress (bool): If True, displays a progress bar of the download to stderr\n",
        "    \"\"\"\n",
        "    return _resnet('resnet34', BasicBlock, [3, 4, 6, 3], progress,\n",
        "                   **kwargs)\n",
        "\n",
        "\n",
        "\n",
        "def resnet50(progress=True, **kwargs):\n",
        "    r\"\"\"ResNet-50 model from\n",
        "    `\"Deep Residual Learning for Image Recognition\" <https://arxiv.org/pdf/1512.03385.pdf>`_\n",
        "\n",
        "    Args:\n",
        "        pretrained (bool): If True, returns a model pre-trained on ImageNet\n",
        "        progress (bool): If True, displays a progress bar of the download to stderr\n",
        "    \"\"\"\n",
        "    return _resnet('resnet50', Bottleneck, [3, 4, 6, 3], progress,\n",
        "                   **kwargs)\n",
        "\n",
        "\n",
        "\n",
        "def resnet101(progress=True, **kwargs):\n",
        "    r\"\"\"ResNet-101 model from\n",
        "    `\"Deep Residual Learning for Image Recognition\" <https://arxiv.org/pdf/1512.03385.pdf>`_\n",
        "\n",
        "    Args:\n",
        "        pretrained (bool): If True, returns a model pre-trained on ImageNet\n",
        "        progress (bool): If True, displays a progress bar of the download to stderr\n",
        "    \"\"\"\n",
        "    return _resnet('resnet101', Bottleneck, [3, 4, 23, 3], progress,\n",
        "                   **kwargs)\n",
        "\n",
        "\n",
        "\n",
        "def resnet152(progress=True, **kwargs):\n",
        "    r\"\"\"ResNet-152 model from\n",
        "    `\"Deep Residual Learning for Image Recognition\" <https://arxiv.org/pdf/1512.03385.pdf>`_\n",
        "\n",
        "    Args:\n",
        "        pretrained (bool): If True, returns a model pre-trained on ImageNet\n",
        "        progress (bool): If True, displays a progress bar of the download to stderr\n",
        "    \"\"\"\n",
        "    return _resnet('resnet152', Bottleneck, [3, 8, 36, 3], progress,\n",
        "                   **kwargs)\n",
        "\n",
        "\n",
        "\n",
        "def resnext50_32x4d(progress=True, **kwargs):\n",
        "    r\"\"\"ResNeXt-50 32x4d model from\n",
        "    `\"Aggregated Residual Transformation for Deep Neural Networks\" <https://arxiv.org/pdf/1611.05431.pdf>`_\n",
        "\n",
        "    Args:\n",
        "        pretrained (bool): If True, returns a model pre-trained on ImageNet\n",
        "        progress (bool): If True, displays a progress bar of the download to stderr\n",
        "    \"\"\"\n",
        "    kwargs['groups'] = 32\n",
        "    kwargs['width_per_group'] = 4\n",
        "    return _resnet('resnext50_32x4d', Bottleneck, [3, 4, 6, 3], progress, **kwargs)\n",
        "\n",
        "\n",
        "\n",
        "def resnext101_32x8d(progress=True, **kwargs):\n",
        "    r\"\"\"ResNeXt-101 32x8d model from\n",
        "    `\"Aggregated Residual Transformation for Deep Neural Networks\" <https://arxiv.org/pdf/1611.05431.pdf>`_\n",
        "\n",
        "    Args:\n",
        "        pretrained (bool): If True, returns a model pre-trained on ImageNet\n",
        "        progress (bool): If True, displays a progress bar of the download to stderr\n",
        "    \"\"\"\n",
        "    kwargs['groups'] = 32\n",
        "    kwargs['width_per_group'] = 8\n",
        "    return _resnet('resnext101_32x8d', Bottleneck, [3, 4, 23, 3], progress, **kwargs)\n",
        "\n",
        "\n",
        "\n",
        "def wide_resnet50_2(progress=True, **kwargs):\n",
        "    r\"\"\"Wide ResNet-50-2 model from\n",
        "    `\"Wide Residual Networks\" <https://arxiv.org/pdf/1605.07146.pdf>`_\n",
        "\n",
        "    The model is the same as ResNet except for the bottleneck number of channels\n",
        "    which is twice larger in every block. The number of channels in outer 1x1\n",
        "    convolutions is the same, e.g. last block in ResNet-50 has 2048-512-2048\n",
        "    channels, and in Wide ResNet-50-2 has 2048-1024-2048.\n",
        "\n",
        "    Args:\n",
        "        pretrained (bool): If True, returns a model pre-trained on ImageNet\n",
        "        progress (bool): If True, displays a progress bar of the download to stderr\n",
        "    \"\"\"\n",
        "    kwargs['width_per_group'] = 64 * 2\n",
        "    return _resnet('wide_resnet50_2', Bottleneck, [3, 4, 6, 3], progress, **kwargs)\n",
        "\n",
        "\n",
        "\n",
        "def wide_resnet101_2(progress=True, **kwargs):\n",
        "    r\"\"\"Wide ResNet-101-2 model from\n",
        "    `\"Wide Residual Networks\" <https://arxiv.org/pdf/1605.07146.pdf>`_\n",
        "\n",
        "    The model is the same as ResNet except for the bottleneck number of channels\n",
        "    which is twice larger in every block. The number of channels in outer 1x1\n",
        "    convolutions is the same, e.g. last block in ResNet-50 has 2048-512-2048\n",
        "    channels, and in Wide ResNet-50-2 has 2048-1024-2048.\n",
        "\n",
        "    Args:\n",
        "        pretrained (bool): If True, returns a model pre-trained on ImageNet\n",
        "        progress (bool): If True, displays a progress bar of the download to stderr\n",
        "    \"\"\"\n",
        "    kwargs['width_per_group'] = 64 * 2\n",
        "    return _resnet('wide_resnet101_2', Bottleneck, [3, 4, 23, 3], progress, **kwargs)"
      ],
      "execution_count": 23,
      "outputs": []
    },
    {
      "cell_type": "code",
      "metadata": {
        "id": "JliBbR5p_uaT",
        "cellView": "form",
        "outputId": "7e6fd5e4-4a6f-47ac-f4c3-c98c393b4a46",
        "colab": {
          "base_uri": "https://localhost:8080/"
        }
      },
      "source": [
        "#@title training-validation split { form-width: \"50px\" }\n",
        "#374-melanoma\n",
        "#254-saborrheic\n",
        "#1372-nevus\n",
        "nev = 1372*0.3\n",
        "sab = 254*0.3\n",
        "mel = 374*0.3\n",
        "import shutil,os\n",
        "import pandas as pd\n",
        "files = os.listdir(base_path + 'After-Segmentation-2')\n",
        "\n",
        "gt = pd.read_csv(gt_path)\n",
        "\n",
        "for i in range(2000):\n",
        "\n",
        "    "
      ],
      "execution_count": null,
      "outputs": [
        {
          "output_type": "execute_result",
          "data": {
            "text/plain": [
              "0.0"
            ]
          },
          "metadata": {
            "tags": []
          },
          "execution_count": 27
        }
      ]
    },
    {
      "cell_type": "code",
      "metadata": {
        "id": "HzezRX6cvpHI"
      },
      "source": [
        "!unzip -d /content/gdrive/My\\ Drive/ISIC-2017-Org-Train-Data/ /content/gdrive/My\\ Drive/ISIC-2017-Org-Train-Data/ISIC-2017_Test_v2_Part1_GroundTruth.zip"
      ],
      "execution_count": null,
      "outputs": []
    },
    {
      "cell_type": "code",
      "metadata": {
        "id": "8_P7EfMBhMwE",
        "outputId": "645b9bd3-1000-43d7-d8dd-b7b8db7b8595",
        "colab": {
          "base_uri": "https://localhost:8080/"
        }
      },
      "source": [
        "from PIL import Image\n",
        "im = Image.open(base_path+'After-Enhancement-2/ISIC_0000000.jpg')\n",
        "im.size"
      ],
      "execution_count": null,
      "outputs": [
        {
          "output_type": "execute_result",
          "data": {
            "text/plain": [
              "(256, 256)"
            ]
          },
          "metadata": {
            "tags": []
          },
          "execution_count": 3
        }
      ]
    },
    {
      "cell_type": "code",
      "metadata": {
        "id": "S4A6QXzFEA5S",
        "outputId": "15b20fa9-c8f0-46c7-e3dd-235bdd8b0861",
        "colab": {
          "base_uri": "https://localhost:8080/"
        }
      },
      "source": [
        "!ls /content/gdrive/My\\ Drive/ISIC-2017-Org-Train-Data/ISIC-2017_Training_Data_Patch_2/ | wc -l"
      ],
      "execution_count": 19,
      "outputs": [
        {
          "output_type": "stream",
          "text": [
            "122000\n"
          ],
          "name": "stdout"
        }
      ]
    },
    {
      "cell_type": "code",
      "metadata": {
        "id": "FQx7Naqkajx4"
      },
      "source": [
        "!unzip -d /content/gdrive/My\\ Drive/ISIC-2017-Org-Train-Data/ /content/gdrive/My\\ Drive/ISIC-2017-Org-Test-Data/ISIC-2017_Test_v2_Data.zip"
      ],
      "execution_count": null,
      "outputs": []
    },
    {
      "cell_type": "code",
      "metadata": {
        "id": "n7JicIQcusJN"
      },
      "source": [
        "!mkdir /content/gdrive/My\\ Drive/ISIC-2017-Org-Train-Data/ISIC-2017_Training_Data_Patch/"
      ],
      "execution_count": null,
      "outputs": []
    },
    {
      "cell_type": "code",
      "metadata": {
        "id": "F3FtInShuuxd",
        "outputId": "a8bf9fbd-decb-4e66-c271-f087e6312ae6",
        "colab": {
          "base_uri": "https://localhost:8080/"
        }
      },
      "source": [
        "!rm -rf /content/gdrive/My\\ Drive/ISIC-2017-Org-Train-Data/ISIC-2017_Training_Data_Patchasdasd"
      ],
      "execution_count": null,
      "outputs": [
        {
          "output_type": "stream",
          "text": [
            "^C\n"
          ],
          "name": "stdout"
        }
      ]
    },
    {
      "cell_type": "code",
      "metadata": {
        "id": "exXxwUUr5c2w",
        "outputId": "cc97da44-f3d8-4559-adce-d47c94bda353",
        "colab": {
          "base_uri": "https://localhost:8080/"
        }
      },
      "source": [
        "!du -sh /content/gdrive/My\\ Drive/ISIC-2017/"
      ],
      "execution_count": null,
      "outputs": [
        {
          "output_type": "stream",
          "text": [
            "16G\t/content/gdrive/My Drive/ISIC-2017-Org-Train-Data/\n"
          ],
          "name": "stdout"
        }
      ]
    },
    {
      "cell_type": "code",
      "metadata": {
        "id": "eZJyVVnaMTlq",
        "outputId": "f3dc69fe-6c26-4709-c750-6d237b5fbb2d",
        "colab": {
          "base_uri": "https://localhost:8080/"
        }
      },
      "source": [
        "!du -sh /content/gdrive/My\\ Drive/train/"
      ],
      "execution_count": null,
      "outputs": [
        {
          "output_type": "stream",
          "text": [
            "6.5G\t/content/gdrive/My Drive/train/\n"
          ],
          "name": "stdout"
        }
      ]
    },
    {
      "cell_type": "code",
      "metadata": {
        "id": "YnjiP9quMZzM",
        "outputId": "f4866033-9c8e-4a24-d3c3-6221c7074753",
        "colab": {
          "base_uri": "https://localhost:8080/"
        }
      },
      "source": [
        "!du -sh /content/gdrive/My\\ Drive/test/"
      ],
      "execution_count": null,
      "outputs": [
        {
          "output_type": "stream",
          "text": [
            "3.6G\t/content/gdrive/My Drive/test/\n"
          ],
          "name": "stdout"
        }
      ]
    },
    {
      "cell_type": "code",
      "metadata": {
        "id": "7b_HUxFAMpzj",
        "outputId": "2ddd2e34-5cb9-4703-b78b-6ea461efdfaf",
        "colab": {
          "base_uri": "https://localhost:8080/"
        }
      },
      "source": [
        "!du -sh /content/gdrive/My\\ Drive/validate/"
      ],
      "execution_count": null,
      "outputs": [
        {
          "output_type": "stream",
          "text": [
            "2.7G\t/content/gdrive/My Drive/validate/\n"
          ],
          "name": "stdout"
        }
      ]
    },
    {
      "cell_type": "code",
      "metadata": {
        "id": "M0_9HfMCM_v_",
        "outputId": "4af22e76-009e-4b58-e72e-5b5567c71ca1",
        "colab": {
          "base_uri": "https://localhost:8080/"
        }
      },
      "source": [
        "!du -sh /content/gdrive/My\\ Drive/ISIC-2017-Org-Train-Data/ISIC-2017_Training_Data_Patch"
      ],
      "execution_count": null,
      "outputs": [
        {
          "output_type": "stream",
          "text": [
            "2.7G\t/content/gdrive/My Drive/ISIC-2017-Org-Train-Data/ISIC-2017_Training_Data_Patch\n"
          ],
          "name": "stdout"
        }
      ]
    },
    {
      "cell_type": "code",
      "metadata": {
        "id": "VBnIc57CNf1D",
        "outputId": "f9050794-d392-4c91-9e0d-06b16df8e741",
        "colab": {
          "base_uri": "https://localhost:8080/"
        }
      },
      "source": [
        "from PIL import Image\n",
        "Image.open(base_path+'After-Enhancement-2/ISIC_0000000.jpg').size"
      ],
      "execution_count": 17,
      "outputs": [
        {
          "output_type": "execute_result",
          "data": {
            "text/plain": [
              "(256, 256)"
            ]
          },
          "metadata": {
            "tags": []
          },
          "execution_count": 17
        }
      ]
    },
    {
      "cell_type": "code",
      "metadata": {
        "id": "29ofL12XtXYF",
        "outputId": "e5cc14ff-ae63-4470-f362-b50ca6a33ab3",
        "colab": {
          "base_uri": "https://localhost:8080/"
        }
      },
      "source": [
        "torch.cuda.current_device()"
      ],
      "execution_count": null,
      "outputs": [
        {
          "output_type": "execute_result",
          "data": {
            "text/plain": [
              "0"
            ]
          },
          "metadata": {
            "tags": []
          },
          "execution_count": 2
        }
      ]
    },
    {
      "cell_type": "code",
      "metadata": {
        "id": "8mwKVQ1MtYQ_",
        "outputId": "fae52bdf-3b16-447c-fd5a-5b44a9f42c3b",
        "colab": {
          "base_uri": "https://localhost:8080/"
        }
      },
      "source": [
        "ls /content/gdrive/My\\ Drive/ISIC-2017-Org-Train-Data/ISIC-2017_Training_Data | wc -l"
      ],
      "execution_count": 15,
      "outputs": [
        {
          "output_type": "stream",
          "text": [
            "4001\n"
          ],
          "name": "stdout"
        }
      ]
    },
    {
      "cell_type": "code",
      "metadata": {
        "id": "zHBXIRwBtbEa",
        "cellView": "both",
        "outputId": "70992048-652d-4c1d-ae02-0cc643b25175",
        "colab": {
          "base_uri": "https://localhost:8080/"
        }
      },
      "source": [
        "#@title Train_Mel-2.py  { form-width: \"50px\" }\n",
        "\n",
        "\n",
        "from tqdm import tqdm\n",
        "from torch.utils import data\n",
        "import torch.optim as optim\n",
        "import torch.nn.functional as F\n",
        "from tensorboardX import SummaryWriter\n",
        "\n",
        "\n",
        "\n",
        "\n",
        "\n",
        "RANDOM_SEED = 6666\n",
        "\n",
        "\n",
        "def main():\n",
        "    np.random.seed(RANDOM_SEED)\n",
        "    torch.manual_seed(RANDOM_SEED)\n",
        "    torch.cuda.manual_seed_all(RANDOM_SEED)\n",
        "    random.seed(RANDOM_SEED)\n",
        "\n",
        "    def train(model, dataloader, criterion, optimizer):\n",
        "        model.train()\n",
        "        losses = []\n",
        "        acc = 0.0\n",
        "        for index, (images, labels, _) in enumerate(dataloader):\n",
        "            labels = labels.to(device).unsqueeze(1).float()\n",
        "            images = images.to(device)\n",
        "            predictions = model(images)\n",
        "            loss = criterion(predictions, labels)\n",
        "            logps = F.logsigmoid(predictions)\n",
        "            ps_ = torch.exp(logps)\n",
        "            equals = torch.ge(ps_, 0.5).float() == labels\n",
        "            acc += equals.sum().item()\n",
        "            losses.append(loss.item())\n",
        "            optimizer.zero_grad()\n",
        "            loss.backward()\n",
        "            optimizer.step()\n",
        "        train_loss = sum(losses) / len(losses)\n",
        "        train_acc = acc / len(dataloader.dataset)\n",
        "        print(f'\\ntrain_Accuracy: {train_acc:.5f}, train_Loss: {train_loss:.5f}')\n",
        "        return train_acc, train_loss\n",
        "\n",
        "    def validation(model, dataloader, criterion):\n",
        "        model.eval()\n",
        "        with torch.no_grad():\n",
        "            running_acc = 0.0\n",
        "            val_losses = []\n",
        "            for index, (images, labels, _) in enumerate(dataloader, start=1):\n",
        "                labels = labels.to(device).unsqueeze(1).float()\n",
        "                images = images.to(device)\n",
        "                # hogs = hogs.to(device)\n",
        "                score = []\n",
        "                for i in range(len(images[0])):\n",
        "                    ps = model(images[:,i])\n",
        "                    score.append(ps)\n",
        "                score = sum(score) / len(score)\n",
        "                logps = F.logsigmoid(score)\n",
        "                ps_ = torch.exp(logps)\n",
        "                loss = criterion(score, labels)\n",
        "                val_losses.append(loss.item())\n",
        "                equals = torch.ge(ps_, 0.5).float() == labels\n",
        "                running_acc += equals.sum().item()\n",
        "            val_loss = sum(val_losses) / len(val_losses)\n",
        "            val_acc = running_acc / len(dataloader.dataset)\n",
        "            print(f'\\nval_Accuracy: {val_acc:.5f}, val_Loss: {val_loss:.5f}')\n",
        "        return val_acc, val_loss\n",
        "\n",
        "    def save_checkpoint(epoch,acc,lr):\n",
        "        filename = os.path.join(checkpoint_dir, \"mel_arlnet50_b32_best_acc.pkl\")\n",
        "        # torch.save(model.state_dict(), filename)\n",
        "        torch.save({\n",
        "            'epoch': epoch,\n",
        "            'model_state_dict': model.state_dict(),\n",
        "            'optimizer_state_dict': optimizer.state_dict(),\n",
        "            'acc': acc,\n",
        "            'lr':lr\n",
        "            }, filename)\n",
        "\n",
        "    def adjust_learning_rate():\n",
        "        nonlocal lr\n",
        "        lr = lr / lr_decay\n",
        "        return optim.SGD(model.parameters(), lr, weight_decay=weight_decay, momentum=0.9)\n",
        "\n",
        "    # set the parameters\n",
        "    data_dir = '/content/gdrive/My Drive/ISIC-2017-Org-Train-Data'\n",
        "    # Create the dataloaders\n",
        "    batch_size = 32\n",
        "    # the checkpoint dir\n",
        "    checkpoint_dir = \"/content/gdrive/My Drive/ISIC-2017-Org-Train-Data/checkpoint\"\n",
        "\n",
        "    # the learning rate para\n",
        "    lr = 1e-4\n",
        "    lr_decay = 2\n",
        "    weight_decay = 1e-4\n",
        "\n",
        "    stage = 0\n",
        "    start_epoch = 0\n",
        "    stage_epochs = [30, 30]\n",
        "    total_epochs = sum(stage_epochs)\n",
        "    writer_dir = os.path.join(checkpoint_dir, \"mel_arlnet50\")\n",
        "    if not os.path.exists(checkpoint_dir):\n",
        "        os.makedirs(checkpoint_dir)\n",
        "\n",
        "    if not os.path.exists(writer_dir):\n",
        "        os.makedirs(writer_dir)\n",
        "\n",
        "    writer = SummaryWriter(writer_dir)\n",
        "\n",
        "    train_transforms = transforms.Compose([\n",
        "        # transforms.Resize((224, 224)),\n",
        "        transforms.RandomRotation((-10, 10)),\n",
        "        transforms.RandomHorizontalFlip(),\n",
        "        transforms.RandomVerticalFlip(),\n",
        "        transforms.ToTensor(),\n",
        "        transforms.Normalize(mean=[0.7079057, 0.59156483, 0.54687315],\n",
        "                             std=[0.09372108, 0.11136277, 0.12577087])\n",
        "    ])\n",
        "\n",
        "    val_transforms = argumentation_val()\n",
        "    # training dataset\n",
        "    train_dataset = ISICDataset(path=data_dir, mode=\"training\", crop=None, transform=train_transforms, task=\"mel\")\n",
        "    val_dataset = ISICDataset(path=data_dir, mode=\"validation\", crop=None, transform=val_transforms, task=\"mel\")\n",
        "    \n",
        "    # train_sampler = MySampler(train_dataset,last_index)\n",
        "    train_loader = data.DataLoader(train_dataset, batch_size=batch_size, shuffle=True, num_workers=8)\n",
        "    val_loader = data.DataLoader(val_dataset, batch_size=batch_size, shuffle=False, num_workers=8)\n",
        "    # get the model\n",
        "    model = arlnet50(pretrained=True)\n",
        "\n",
        "    # the loss function\n",
        "    criterion = nn.BCEWithLogitsLoss()\n",
        "\n",
        "    device = torch.device(\"cuda\" if torch.cuda.is_available() else \"cpu\")\n",
        "\n",
        "    model = model.to(device)\n",
        "\n",
        "    criterion = criterion.to(device)\n",
        "\n",
        "    # the optimizer\n",
        "    optimizer = optim.SGD(model.parameters(), lr, weight_decay=weight_decay, momentum=0.9)\n",
        "\n",
        "    # initialize the accuracy\n",
        "    acc = 0.0\n",
        "    flag = True\n",
        "    if flag:\n",
        "          filename = os.path.join(checkpoint_dir, \"mel_arlnet50_b32_best_acc_third.pkl\")\n",
        "          checkpoint_t = torch.load(filename)\n",
        "          model.load_state_dict(checkpoint_t['model_state_dict'])\n",
        "          optimizer.load_state_dict(checkpoint_t['optimizer_state_dict'])\n",
        "          start_epoch = checkpoint_t['epoch']\n",
        "          lr = checkpoint_t['lr']\n",
        "          acc = checkpoint_t['acc']\n",
        "    for epoch in tqdm(range(start_epoch, total_epochs)):\n",
        "        train_acc, train_loss = train(model, train_loader, criterion, optimizer)\n",
        "        val_acc, val_loss = validation(model, val_loader, criterion)\n",
        "        writer.add_scalar(\"train acc\", train_acc, epoch)\n",
        "        writer.add_scalar(\"train loss\", train_loss, epoch)\n",
        "        writer.add_scalar(\"val accuracy\", val_acc, epoch)\n",
        "        writer.add_scalar(\"val loss\", val_loss, epoch)\n",
        "\n",
        "        if val_acc > acc or val_acc == acc:\n",
        "            acc = val_acc\n",
        "            print(\"save the checkpoint, the accuracy of validation is {}\".format(acc))\n",
        "            save_checkpoint(epoch,acc,lr)\n",
        "\n",
        "        if (epoch + 1) % 50 == 0:\n",
        "            torch.save(model.state_dict(), \"/content/gdrive/My Drive/ISIC-2017-Org-Train-Data/checkpoint/mel_arlnet50/mel_arlnet50_b32_epoches_{}.pkl\".format(epoch + 1))\n",
        "\n",
        "        if (epoch + 1) in np.cumsum(stage_epochs)[:-1]:\n",
        "            stage += 1\n",
        "            optimizer = adjust_learning_rate()\n",
        "            print('Step into next stage')\n",
        "\n",
        "        if (epoch + 1) == 50:\n",
        "            torch.save(model.state_dict(), \"/content/gdrive/My Drive/ISIC-2017-Org-Train-Data/checkpoint/mel_arlnet50/mel_arlnet50_b32_epoches_{}.pkl\".format(epoch + 1))\n",
        "\n",
        "\n",
        "if __name__ == '__main__':\n",
        "    main()"
      ],
      "execution_count": null,
      "outputs": [
        {
          "output_type": "stream",
          "text": [
            "\n",
            "\n",
            "  0%|          | 0/60 [00:00<?, ?it/s]\u001b[A\u001b[A"
          ],
          "name": "stderr"
        },
        {
          "output_type": "stream",
          "text": [
            "\n",
            "train_Accuracy: 0.83075, train_Loss: 0.38668\n",
            "\n",
            "val_Accuracy: 0.80000, val_Loss: 0.51843\n",
            "save the checkpoint, the accuracy of validation is 0.8\n"
          ],
          "name": "stdout"
        },
        {
          "output_type": "stream",
          "text": [
            "\n",
            "\n",
            "  2%|▏         | 1/60 [21:24<21:03:30, 1284.92s/it]\u001b[A\u001b[A"
          ],
          "name": "stderr"
        },
        {
          "output_type": "stream",
          "text": [
            "\n",
            "train_Accuracy: 0.88211, train_Loss: 0.27115\n"
          ],
          "name": "stdout"
        },
        {
          "output_type": "stream",
          "text": [
            "\n",
            "\n",
            "  3%|▎         | 2/60 [43:34<20:55:04, 1298.35s/it]\u001b[A\u001b[A"
          ],
          "name": "stderr"
        },
        {
          "output_type": "stream",
          "text": [
            "\n",
            "val_Accuracy: 0.78667, val_Loss: 0.48199\n",
            "\n",
            "train_Accuracy: 0.92994, train_Loss: 0.17194\n",
            "\n",
            "val_Accuracy: 0.80000, val_Loss: 0.58499\n",
            "save the checkpoint, the accuracy of validation is 0.8\n"
          ],
          "name": "stdout"
        },
        {
          "output_type": "stream",
          "text": [
            "\n",
            "\n",
            "  5%|▌         | 3/60 [1:05:05<20:31:19, 1296.14s/it]\u001b[A\u001b[A"
          ],
          "name": "stderr"
        },
        {
          "output_type": "stream",
          "text": [
            "\n",
            "train_Accuracy: 0.95911, train_Loss: 0.10679\n",
            "\n",
            "val_Accuracy: 0.81333, val_Loss: 0.56831\n",
            "save the checkpoint, the accuracy of validation is 0.8133333333333334\n"
          ],
          "name": "stdout"
        },
        {
          "output_type": "stream",
          "text": [
            "\n",
            "\n",
            "  7%|▋         | 4/60 [1:27:13<20:18:31, 1305.55s/it]\u001b[A\u001b[A"
          ],
          "name": "stderr"
        },
        {
          "output_type": "stream",
          "text": [
            "\n",
            "train_Accuracy: 0.97470, train_Loss: 0.06947\n"
          ],
          "name": "stdout"
        },
        {
          "output_type": "stream",
          "text": [
            "\n",
            "\n",
            "  8%|▊         | 5/60 [1:49:18<20:02:19, 1311.62s/it]\u001b[A\u001b[A"
          ],
          "name": "stderr"
        },
        {
          "output_type": "stream",
          "text": [
            "\n",
            "val_Accuracy: 0.80000, val_Loss: 0.71583\n",
            "\n",
            "train_Accuracy: 0.98189, train_Loss: 0.04977\n",
            "\n",
            "val_Accuracy: 0.82000, val_Loss: 0.66260\n",
            "save the checkpoint, the accuracy of validation is 0.82\n"
          ],
          "name": "stdout"
        },
        {
          "output_type": "stream",
          "text": [
            "\n",
            "\n",
            " 10%|█         | 6/60 [2:10:48<19:34:25, 1304.92s/it]\u001b[A\u001b[A"
          ],
          "name": "stderr"
        },
        {
          "output_type": "stream",
          "text": [
            "\n",
            "train_Accuracy: 0.98693, train_Loss: 0.03694\n",
            "\n",
            "val_Accuracy: 0.82000, val_Loss: 0.74440\n",
            "save the checkpoint, the accuracy of validation is 0.82\n"
          ],
          "name": "stdout"
        },
        {
          "output_type": "stream",
          "text": [
            "\n",
            "\n",
            " 12%|█▏        | 7/60 [2:32:56<19:18:52, 1311.93s/it]\u001b[A\u001b[A"
          ],
          "name": "stderr"
        },
        {
          "output_type": "stream",
          "text": [
            "\n",
            "train_Accuracy: 0.98992, train_Loss: 0.02948\n"
          ],
          "name": "stdout"
        },
        {
          "output_type": "stream",
          "text": [
            "\n",
            "\n",
            " 13%|█▎        | 8/60 [2:55:57<19:14:55, 1332.60s/it]\u001b[A\u001b[A"
          ],
          "name": "stderr"
        },
        {
          "output_type": "stream",
          "text": [
            "\n",
            "val_Accuracy: 0.80667, val_Loss: 0.76690\n",
            "\n",
            "train_Accuracy: 0.99210, train_Loss: 0.02344\n"
          ],
          "name": "stdout"
        },
        {
          "output_type": "stream",
          "text": [
            "\n",
            "\n",
            " 15%|█▌        | 9/60 [3:17:25<18:41:26, 1319.34s/it]\u001b[A\u001b[A"
          ],
          "name": "stderr"
        },
        {
          "output_type": "stream",
          "text": [
            "\n",
            "val_Accuracy: 0.81333, val_Loss: 0.75345\n"
          ],
          "name": "stdout"
        }
      ]
    },
    {
      "cell_type": "code",
      "metadata": {
        "id": "IBc6F8bGBXuR",
        "cellView": "form"
      },
      "source": [
        "#@title MySampler { form-width:\"50px\" }\n",
        "import random\n",
        "from torch.utils.data.dataloader import Sampler\n",
        "\n",
        "random.seed(6666)\n",
        "\n",
        "class MySampler(Sampler):\n",
        "  def __init__(self,data,i=0):\n",
        "    random.shuffle(data)\n",
        "    self.seq = list(range(len(data)))[i*32]:\n",
        "  def __iter__(self):\n",
        "    return iter(self.seq)\n",
        "  def __len__(self):\n",
        "    return len(self.seq)"
      ],
      "execution_count": null,
      "outputs": []
    },
    {
      "cell_type": "code",
      "metadata": {
        "id": "Qu_DvivOIrks"
      },
      "source": [
        "!cp /content/gdrive/My\\ Drive/ISIC-2017-Org-Train-Data/checkpoint/mel_arlnet50_b32_best_acc.pkl /content/gdrive/My\\ Drive/ISIC-2017-Org-Train-Data/checkpoint/mel_arlnet50_b32_best_acc_third.pkl"
      ],
      "execution_count": 4,
      "outputs": []
    },
    {
      "cell_type": "code",
      "metadata": {
        "id": "ZLs9Y15N2woy"
      },
      "source": [
        ""
      ],
      "execution_count": null,
      "outputs": []
    }
  ]
}