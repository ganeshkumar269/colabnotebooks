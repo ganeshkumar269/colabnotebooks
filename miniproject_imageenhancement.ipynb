{
  "nbformat": 4,
  "nbformat_minor": 0,
  "metadata": {
    "colab": {
      "name": "miniproject_imageenhancement",
      "provenance": [],
      "collapsed_sections": [],
      "authorship_tag": "ABX9TyPMdYqtX4UCT7o6xe+BSfPs",
      "include_colab_link": true
    },
    "kernelspec": {
      "name": "python3",
      "display_name": "Python 3"
    }
  },
  "cells": [
    {
      "cell_type": "markdown",
      "metadata": {
        "id": "view-in-github",
        "colab_type": "text"
      },
      "source": [
        "<a href=\"https://colab.research.google.com/github/ganeshkumar269/colabnotebooks/blob/main/miniproject_imageenhancement.ipynb\" target=\"_parent\"><img src=\"https://colab.research.google.com/assets/colab-badge.svg\" alt=\"Open In Colab\"/></a>"
      ]
    },
    {
      "cell_type": "code",
      "metadata": {
        "id": "R2ov6uWaTGbw",
        "outputId": "b03075b2-3550-40e2-ede9-b1956e800e0c",
        "colab": {
          "base_uri": "https://localhost:8080/",
          "height": 34
        }
      },
      "source": [
        "from google.colab import drive\n",
        "drive.mount('/content/gdrive')"
      ],
      "execution_count": 2,
      "outputs": [
        {
          "output_type": "stream",
          "text": [
            "Mounted at /content/gdrive\n"
          ],
          "name": "stdout"
        }
      ]
    },
    {
      "cell_type": "code",
      "metadata": {
        "id": "dEl-kW0NFVbg"
      },
      "source": [
        "!mkdir /content/gdrive/My\\ Drive/ISIC-2017-Org-Train-Data/After-Enhancement/"
      ],
      "execution_count": null,
      "outputs": []
    },
    {
      "cell_type": "code",
      "metadata": {
        "id": "71YoR-jRV_rX"
      },
      "source": [
        "from PIL import Image,ImageEnhance,ImageStat\n",
        "import csv\n",
        "import cv2\n",
        "import numpy as np"
      ],
      "execution_count": 8,
      "outputs": []
    },
    {
      "cell_type": "code",
      "metadata": {
        "id": "mdpPTkw_MuJP"
      },
      "source": [
        ""
      ],
      "execution_count": null,
      "outputs": []
    },
    {
      "cell_type": "code",
      "metadata": {
        "id": "OMwGq70KL1bR"
      },
      "source": [
        "path_base = '/content/gdrive/My Drive/ISIC-2017-Org-Train-Data/'"
      ],
      "execution_count": 4,
      "outputs": []
    },
    {
      "cell_type": "code",
      "metadata": {
        "id": "MNw0xs24FVGS"
      },
      "source": [
        "obj = ImageEnhance.Brightness(image)"
      ],
      "execution_count": null,
      "outputs": []
    },
    {
      "cell_type": "code",
      "metadata": {
        "id": "wow6MgsPFm6o"
      },
      "source": [
        "brightImage = obj.enhance(1.5)"
      ],
      "execution_count": null,
      "outputs": []
    },
    {
      "cell_type": "code",
      "metadata": {
        "id": "UhEWuzWBFo9i"
      },
      "source": [
        "sharpness = ImageEnhance.Sharpness(brightImage)"
      ],
      "execution_count": null,
      "outputs": []
    },
    {
      "cell_type": "code",
      "metadata": {
        "id": "-x1YSjEaF0cb"
      },
      "source": [
        "sharpImage = sharpness.enhance(1.5)"
      ],
      "execution_count": null,
      "outputs": []
    },
    {
      "cell_type": "code",
      "metadata": {
        "id": "Oiw_NSkQF2Si"
      },
      "source": [
        "contrast = ImageEnhance.Contrast(sharpImage)"
      ],
      "execution_count": null,
      "outputs": []
    },
    {
      "cell_type": "code",
      "metadata": {
        "id": "SsRba7YTGEjP"
      },
      "source": [
        "# def getBrightness(image):\n",
        "# res=ImageStat.Stat(image)\n",
        "# res.mean"
      ],
      "execution_count": null,
      "outputs": []
    },
    {
      "cell_type": "code",
      "metadata": {
        "id": "8zO-EMH-JVMS"
      },
      "source": [
        "contrastImage = contrast.enhance(1.2)"
      ],
      "execution_count": null,
      "outputs": []
    },
    {
      "cell_type": "code",
      "metadata": {
        "id": "EXPEZ6fDNngq"
      },
      "source": [
        "contrastImage"
      ],
      "execution_count": null,
      "outputs": []
    },
    {
      "cell_type": "code",
      "metadata": {
        "id": "1myXCy2mNwhk"
      },
      "source": [
        "!wget https://drive.google.com/u/0/uc?export=download&confirm=7aEp&id=1hXy-gKCHIG8myY9R4lB6GYE7xxbqM_Hj -p /content/gdrive/My\\ Drive/"
      ],
      "execution_count": null,
      "outputs": []
    },
    {
      "cell_type": "code",
      "metadata": {
        "id": "V5I-P56oQ3X1"
      },
      "source": [
        "contrastImage.save('/content/gdrive/My Drive/ISIC-2017-Org-Train-Data/test.jpg')"
      ],
      "execution_count": null,
      "outputs": []
    },
    {
      "cell_type": "code",
      "metadata": {
        "id": "_Qoz5rjFoVGL"
      },
      "source": [
        ""
      ],
      "execution_count": 3,
      "outputs": []
    },
    {
      "cell_type": "code",
      "metadata": {
        "id": "9ENfO4hwId_Z"
      },
      "source": [
        "def enhance(image,name):\n",
        "  obj = ImageEnhance.Brightness(image)\n",
        "  brightImage = obj.enhance(1.5)\n",
        "  sharpness = ImageEnhance.Sharpness(brightImage)\n",
        "  sharpImage = sharpness.enhance(1.6)\n",
        "  contrast = ImageEnhance.Contrast(sharpImage)\n",
        "  contrastImage = contrast.enhance(1.2)\n",
        "  # resizedImage = contrastImage.resize((256,256),resample=Image.BICUBIC)\n",
        "  contrastImage.save('/content/gdrive/My Drive/ISIC-2017-Org-Train-Data/After-Enhancement/'+name+'.jpg','JPEG')"
      ],
      "execution_count": null,
      "outputs": []
    },
    {
      "cell_type": "code",
      "metadata": {
        "id": "_tsynhrakSNk"
      },
      "source": [
        "with open(path_base + 'ISIC-2017_Training_Part3_GroundTruth.csv') as csvDataFile:\n",
        "    csvReader = csv.reader(csvDataFile, delimiter=';')\n",
        "    i = 0\n",
        "    itr = 135\n",
        "    for row in csvReader:\n",
        "      if i == 0:\n",
        "        i += 1\n",
        "        continue\n",
        "      if itr < 0:\n",
        "        break\n",
        "      else:\n",
        "        itr -= 1\n",
        "      arr = row[0].split(',')\n",
        "      img_name = arr[0]\n",
        "      nextImage = Image.open(path_base+'ISIC-2017_Training_Data/'+img_name+'.jpg')\n",
        "      enhance(nextImage,img_name)"
      ],
      "execution_count": null,
      "outputs": []
    },
    {
      "cell_type": "code",
      "metadata": {
        "id": "f0n81HW-kfEq",
        "outputId": "c9f61838-0a4a-4167-d500-a415eece8303",
        "colab": {
          "base_uri": "https://localhost:8080/",
          "height": 34
        }
      },
      "source": [
        "!ls /content/gdrive/My\\ Drive/ISIC-2017-Org-Train-Data/After-Enhancement/ | wc -l"
      ],
      "execution_count": null,
      "outputs": [
        {
          "output_type": "stream",
          "text": [
            "2000\n"
          ],
          "name": "stdout"
        }
      ]
    },
    {
      "cell_type": "code",
      "metadata": {
        "id": "MBLAmaZ7lBGV"
      },
      "source": [
        "def shade_of_gray_cc(img, power=6, gamma=None):\n",
        "  \"\"\"\n",
        "  img (numpy array): the original image with format of (h, w, c)\n",
        "  power (int): the degree of norm, 6 is used in reference paper\n",
        "  gamma (float): the value of gamma correction, 2.2 is used in reference paper\n",
        "  \"\"\"\n",
        "  img_dtype = img.dtype\n",
        "\n",
        "  if gamma is not None:\n",
        "      img = img.astype('uint8')\n",
        "      look_up_table = np.ones((256,1), dtype='uint8') * 0\n",
        "      for i in range(256):\n",
        "          look_up_table[i][0] = 255 * pow(i/255, 1/gamma)\n",
        "      img = cv2.LUT(img, look_up_table)\n",
        "\n",
        "  img = img.astype('float32')\n",
        "  img_power = np.power(img, power)\n",
        "  rgb_vec = np.power(np.mean(img_power, (0,1)), 1/power)\n",
        "  rgb_norm = np.sqrt(np.sum(np.power(rgb_vec, 2.0)))\n",
        "  rgb_vec = rgb_vec/rgb_norm\n",
        "  rgb_vec = 1/(rgb_vec*np.sqrt(3))\n",
        "  img = np.multiply(img, rgb_vec)\n",
        "\n",
        "  # Andrew Anikin suggestion\n",
        "  img = np.clip(img, a_min=0, a_max=255)\n",
        "  \n",
        "  return img.astype(img_dtype)\n"
      ],
      "execution_count": 9,
      "outputs": []
    },
    {
      "cell_type": "code",
      "metadata": {
        "id": "3b1pHccNTCyf"
      },
      "source": [
        "sog_test_img1 = cv2.imread('/content/gdrive/My Drive/ISIC-2017-Org-Train-Data/ISIC-2017_Training_Data/ISIC_0000006.jpg')  "
      ],
      "execution_count": 13,
      "outputs": []
    },
    {
      "cell_type": "code",
      "metadata": {
        "id": "_0SiXxCvTEoJ"
      },
      "source": [
        "sog_test_img1_o = shade_of_gray_cc(sog_test_img1)"
      ],
      "execution_count": 14,
      "outputs": []
    },
    {
      "cell_type": "code",
      "metadata": {
        "id": "XOqcmDKNTGBP",
        "outputId": "0a318bcf-c47f-4f07-d4aa-ba4d22097bb4",
        "colab": {
          "base_uri": "https://localhost:8080/",
          "height": 34
        }
      },
      "source": [
        "cv2.imwrite('/content/gdrive/My Drive/ISIC-2017-Org-Train-Data/rand/ISIC_0000006.jpg',sog_test_img1_o)"
      ],
      "execution_count": 15,
      "outputs": [
        {
          "output_type": "execute_result",
          "data": {
            "text/plain": [
              "True"
            ]
          },
          "metadata": {
            "tags": []
          },
          "execution_count": 15
        }
      ]
    },
    {
      "cell_type": "code",
      "metadata": {
        "cellView": "both",
        "id": "edGukUHXyymr",
        "outputId": "461b5ed5-289f-498e-8130-619fda59e244",
        "colab": {
          "base_uri": "https://localhost:8080/",
          "height": 34
        }
      },
      "source": [
        "#dilation\n",
        "dil_img1 = cv2.imread('/content/gdrive/My Drive/ISIC-2017-Org-Train-Data/ISIC-2017_Training_Data/ISIC_0000019.jpg')\n",
        "kernel = np.ones((3,3),np.uint8)\n",
        "channel1_dilate_o = cv2.erode(dil_img1[:,:,0],kernel,iterations=1)\n",
        "channel1_erode_o = cv2.erode(channel1_dilate_o,kernel,iterations=1)\n",
        "cv2.imwrite('/content/gdrive/My Drive/ISIC-2017-Org-Train-Data/rand/ISIC_0000019_c1.jpg',channel1_erode_o)"
      ],
      "execution_count": 21,
      "outputs": [
        {
          "output_type": "execute_result",
          "data": {
            "text/plain": [
              "True"
            ]
          },
          "metadata": {
            "tags": []
          },
          "execution_count": 21
        }
      ]
    },
    {
      "cell_type": "code",
      "metadata": {
        "id": "b1g91bErTXTp"
      },
      "source": [
        ""
      ],
      "execution_count": null,
      "outputs": []
    }
  ]
}